{
 "cells": [
  {
   "cell_type": "code",
   "execution_count": null,
   "metadata": {},
   "outputs": [],
   "source": [
    "import lmdb\n",
    "DB_phash = lmdb.open('./data/phashes.lmdb',map_size=500*1_000_000) #500mb\n",
    "DB_filename_to_id = lmdb.open('./data/filename_to_id.lmdb',map_size=50*1_000_000) #50mb\n",
    "DB_id_to_filename = lmdb.open('./data/id_to_filename.lmdb',map_size=50*1_000_000) #50mb"
   ]
  },
  {
   "cell_type": "code",
   "execution_count": 2,
   "metadata": {},
   "outputs": [],
   "source": [
    "from modules.byte_ops import int_to_bytes, int_from_bytes\n"
   ]
  },
  {
   "cell_type": "code",
   "execution_count": 7,
   "metadata": {},
   "outputs": [
    {
     "name": "stdout",
     "output_type": "stream",
     "text": [
      "(1, b'\\xeft`\\xbb\\x0e\\x9f\\x00K\\xce_\\x141\\x9a)\\xdc1j\\xb5C\\x95\\t\\xda \\x06\\xb9z\\xb5/\\xc5bR+\\x86\\xd2T=\\xadQq\\x0f+\\xc2\\xd0\\xbe=\\xbcqa/A\\xc1Z\\x8e>\\xd2\\xadsg\\xc1\\xea\\x8a\\x87>\\x98<w\\xe7p\\xc1.\\x1fz')\n",
      "(4, b'\\xd05\"\\xf4\\x03\\x88\\x7f@\\x86\\xdf\\xbds\\xe1\\xdf\\xd4\\x87M=\\xb7>\\x91\\xb1N|+25\\rr\\xa5\\xe8\\x95\\xa8\\x12\\x95\\x8b\\x95\\xd6+\\xec\\xdd\\xe4\\xae\\xad\\xd6\\x1a*\\x91EX\\x8d\\xe3\\x00W\\x08\\xa9vE\\xba\\xe8\\xd2@A\\xff\\x85)[?\\xe2\\x06\\xefN')\n",
      "====================\n",
      "(b'10130.jpg', 1)\n",
      "(b'10133.jpg', 4)\n",
      "====================\n",
      "(1, b'10130.jpg')\n",
      "(4, b'10133.jpg')\n"
     ]
    }
   ],
   "source": [
    "with DB_phash.begin(write=False, buffers=False) as txn:\n",
    "    cursor = txn.cursor()\n",
    "    for key, value in cursor:\n",
    "        print((int_from_bytes(key), value))\n",
    "print(\"====================\")\n",
    "with DB_filename_to_id.begin(write=False, buffers=False) as txn:\n",
    "    cursor = txn.cursor()\n",
    "    for key, value in cursor:\n",
    "        print((key, int_from_bytes(value)))\n",
    "print(\"====================\")\n",
    "with DB_id_to_filename.begin(write=False, buffers=False) as txn:\n",
    "    cursor = txn.cursor()\n",
    "    for key, value in cursor:\n",
    "        print((int_from_bytes(key), value))"
   ]
  }
 ],
 "metadata": {
  "kernelspec": {
   "display_name": "Python 3",
   "language": "python",
   "name": "python3"
  },
  "language_info": {
   "codemirror_mode": {
    "name": "ipython",
    "version": 3
   },
   "file_extension": ".py",
   "mimetype": "text/x-python",
   "name": "python",
   "nbconvert_exporter": "python",
   "pygments_lexer": "ipython3",
   "version": "3.9.13"
  },
  "orig_nbformat": 4,
  "vscode": {
   "interpreter": {
    "hash": "1d37589d4eb4d142da20bdbebb4352afaee29589507962c05c4960916c8b7369"
   }
  }
 },
 "nbformat": 4,
 "nbformat_minor": 2
}
