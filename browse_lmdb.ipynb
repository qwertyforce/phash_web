{
 "cells": [
  {
   "cell_type": "code",
   "execution_count": 1,
   "metadata": {},
   "outputs": [],
   "source": [
    "import lmdb\n",
    "DB_phash = lmdb.open('./phashes.lmdb',map_size=500*1_000_000) #500mb\n",
    "DB_filename_to_id = lmdb.open('./filename_to_id.lmdb',map_size=50*1_000_000) #50mb\n",
    "DB_id_to_filename = lmdb.open('./id_to_filename.lmdb',map_size=50*1_000_000) #50mb"
   ]
  },
  {
   "cell_type": "code",
   "execution_count": 5,
   "metadata": {},
   "outputs": [
    {
     "name": "stdout",
     "output_type": "stream",
     "text": [
      "(b'\\x00\\x00\\x00\\x01', b'\\xba!5\\xee[\\xcaU\\x1e\\x9f\\nAd\\xcf|\\x89d\\x1f\\xe0\\x16\\xc0\\\\\\x8fuS\\xec/\\xe0z\\x907\\x07~\\xd3\\x87\\x01h\\xf8\\x04$^~\\xd7\\x85\\xebh\\xe9$4z\\x14\\x94\\x0f\\xdbk\\x87\\xf862\\x95\\xbd_\\xd2k\\xc5i \\xb2%\\x94{J\\x1f')\n",
      "(b'\\x00\\x00\\x00\\x02', b'\\xe6+Z\\xf4*\\xda}\\xb2\\xda\\x18\\xd2\\xdaQ\\x96\\xda\\xe7\\x90K\\x87\\xe0\\xe9\\xc6pI\\xc7Ai\\x1d\\x05\\xcc\\xe5\\x01l\\x19\\x0f\\x9c\\xf1\\x07\\x9da~\\x1c2~7\\xe2\\xde#\\x1fV\\xc5\\xc2\\x16\\xcd\\x0fV\\x95\\xd8\\x0f\\xb5\\xd8D=\\x1f\\xd8m\\xc1\\x96IC\\x94\\xcf')\n",
      "(b'\\x00\\x00\\x00\\x04', b'\\xd05\"\\xf4\\x03\\x88\\x7f@\\x86\\xdf\\xbds\\xe1\\xdf\\xd4\\x87M=\\xb7>\\x91\\xb1N|+25\\rr\\xa5\\xe8\\x95\\xa8\\x12\\x95\\x8b\\x95\\xd6+\\xec\\xdd\\xe4\\xae\\xad\\xd6\\x1a*\\x91EX\\x8d\\xe3\\x00W\\x08\\xa9vE\\xba\\xe8\\xd2@A\\xff\\x85)[?\\xe2\\x06\\xefN')\n",
      "====================\n",
      "(b'10131.jpg', b'\\x00\\x00\\x00\\x01')\n",
      "(b'10132.jpg', b'\\x00\\x00\\x00\\x02')\n",
      "(b'4.online', b'\\x00\\x00\\x00\\x04')\n",
      "====================\n",
      "(b'\\x00\\x00\\x00\\x01', b'10131.jpg')\n",
      "(b'\\x00\\x00\\x00\\x02', b'10132.jpg')\n",
      "(b'\\x00\\x00\\x00\\x04', b'4.online')\n"
     ]
    }
   ],
   "source": [
    "with DB_phash.begin(write=False, buffers=False) as txn:\n",
    "    cursor = txn.cursor()\n",
    "    for key, value in cursor:\n",
    "        print((key, value))\n",
    "print(\"====================\")\n",
    "with DB_filename_to_id.begin(write=False, buffers=False) as txn:\n",
    "    cursor = txn.cursor()\n",
    "    for key, value in cursor:\n",
    "        print((key, value))\n",
    "print(\"====================\")\n",
    "with DB_id_to_filename.begin(write=False, buffers=False) as txn:\n",
    "    cursor = txn.cursor()\n",
    "    for key, value in cursor:\n",
    "        print((key, value))"
   ]
  }
 ],
 "metadata": {
  "kernelspec": {
   "display_name": "Python 3",
   "language": "python",
   "name": "python3"
  },
  "language_info": {
   "codemirror_mode": {
    "name": "ipython",
    "version": 3
   },
   "file_extension": ".py",
   "mimetype": "text/x-python",
   "name": "python",
   "nbconvert_exporter": "python",
   "pygments_lexer": "ipython3",
   "version": "3.9.13"
  },
  "orig_nbformat": 4,
  "vscode": {
   "interpreter": {
    "hash": "1d37589d4eb4d142da20bdbebb4352afaee29589507962c05c4960916c8b7369"
   }
  }
 },
 "nbformat": 4,
 "nbformat_minor": 2
}
